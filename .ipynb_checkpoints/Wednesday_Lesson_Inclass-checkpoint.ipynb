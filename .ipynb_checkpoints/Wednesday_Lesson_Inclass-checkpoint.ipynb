{
 "cells": [
  {
   "cell_type": "markdown",
   "metadata": {},
   "source": [
    "# Data Collections 2 (Dictionaries, Sets) and Importing Modules"
   ]
  },
  {
   "cell_type": "markdown",
   "metadata": {},
   "source": [
    "## Tasks Today:\n",
    "\n",
    "1) Dictionary <br>\n",
    " &nbsp;&nbsp;&nbsp;&nbsp; a) Declaring (key, value) <br>\n",
    " &nbsp;&nbsp;&nbsp;&nbsp; b) Accessing Values <br>\n",
    " &nbsp;&nbsp;&nbsp;&nbsp; ------ Exercise #1 - Print the eye color of each person in a double nested dict <br>\n",
    " &nbsp;&nbsp;&nbsp;&nbsp; c) Adding New Pairs <br>\n",
    " &nbsp;&nbsp;&nbsp;&nbsp; d) Modifying Values <br>\n",
    " &nbsp;&nbsp;&nbsp;&nbsp; e) Removing Key, Value Pairs <br>\n",
    " &nbsp;&nbsp;&nbsp;&nbsp; f) Looping a Dictionary <br>\n",
    " &nbsp;&nbsp;&nbsp;&nbsp; g) Looping Only Keys <br>\n",
    " &nbsp;&nbsp;&nbsp;&nbsp; h) Looping Only Values <br>\n",
    " &nbsp;&nbsp;&nbsp;&nbsp; ------ Exercise #2 - Create a Function that Prints All Key Value Pairs within a print .format()  <br>\n",
    " &nbsp;&nbsp;&nbsp;&nbsp; i) sorted() <br>\n",
    " &nbsp;&nbsp;&nbsp;&nbsp; j) Lists with Dictionaries <br>\n",
    " &nbsp;&nbsp;&nbsp;&nbsp; k) Dictionaries with Lists <br>\n",
    " &nbsp;&nbsp;&nbsp;&nbsp; l) Dictionaries with Dictionaries <br>\n",
    "2) Hashing & Big 'O' Notation <br>\n",
    " &nbsp;&nbsp;&nbsp;&nbsp; ------ Exercise #3 - Write a Function that asks someone's name and address, and then stores that into a dictionary, which prints all names and addresses after they're done putting information in...  <br>\n",
    "3) Dictionaries vs. Lists (over time)<br>\n",
    "4) Set <br>\n",
    " &nbsp;&nbsp;&nbsp;&nbsp; a) Declaring <br>\n",
    " &nbsp;&nbsp;&nbsp;&nbsp; b) .add() <br>\n",
    " &nbsp;&nbsp;&nbsp;&nbsp; c) .remove() <br>\n",
    " &nbsp;&nbsp;&nbsp;&nbsp; d) .union() <br>\n",
    " &nbsp;&nbsp;&nbsp;&nbsp; e) .intersection() <br>\n",
    " &nbsp;&nbsp;&nbsp;&nbsp; f) .difference() <br>\n",
    " &nbsp;&nbsp;&nbsp;&nbsp; g) Frozen Set <br>\n",
    "5) Modules <br>\n",
    " &nbsp;&nbsp;&nbsp;&nbsp; a) Importing Entire Modules <br>\n",
    " &nbsp;&nbsp;&nbsp;&nbsp; b) Importing Methods Only <br>\n",
    " &nbsp;&nbsp;&nbsp;&nbsp; c) Using the 'as' Keyword <br>\n",
    " &nbsp;&nbsp;&nbsp;&nbsp; d) Creating a Module <br>\n",
    "6) Exercises <br>\n",
    " &nbsp;&nbsp;&nbsp;&nbsp; a) Build a Shopping Cart <br>\n",
    " &nbsp;&nbsp;&nbsp;&nbsp; b) Create Your Own Module <br>"
   ]
  },
  {
   "cell_type": "markdown",
   "metadata": {},
   "source": [
    "## Dictionary <br>\n",
    "<p>A collection of data with 'key:value' pairs. Dictionaries are ordered as of Python 3.6</p>"
   ]
  },
  {
   "cell_type": "markdown",
   "metadata": {},
   "source": [
    "##### Declaring (key, value)"
   ]
  },
  {
   "cell_type": "code",
   "execution_count": null,
   "metadata": {},
   "outputs": [],
   "source": [
    "# keys should be unique\n",
    "# can use numbers or strings\n",
    "\n",
    "dict_1 = {}\n",
    "d2 = {\n",
    "    \"name\": \"jozemoss\",\n",
    "    \"age\": 134,\n",
    "    \"type\": \"forgetful dragon\",\n",
    "    \"time to regeneration\": 500,\n",
    "}"
   ]
  },
  {
   "cell_type": "markdown",
   "metadata": {},
   "source": [
    "##### Accessing Values"
   ]
  },
  {
   "cell_type": "code",
   "execution_count": 3,
   "metadata": {},
   "outputs": [
    {
     "data": {
      "text/plain": [
       "500"
      ]
     },
     "execution_count": 3,
     "metadata": {},
     "output_type": "execute_result"
    }
   ],
   "source": [
    "# dict[key]\n",
    "d2 = {\n",
    "    \"name\": \"jozemoss\",\n",
    "    \"age\": 134,\n",
    "    \"type\": \"forgetful dragon\",\n",
    "    \"time to regeneration\": 500,\n",
    "}\n",
    "d2[\"time to regeneration\"]\n",
    "\n"
   ]
  },
  {
   "cell_type": "markdown",
   "metadata": {},
   "source": [
    "## In-Class Exercise #1 - Print a formatted statement from the dictionary below <br>\n",
    "<p>The output should be '2018 Chevrolet Silverado'</p>"
   ]
  },
  {
   "cell_type": "code",
   "execution_count": 4,
   "metadata": {},
   "outputs": [
    {
     "name": "stdout",
     "output_type": "stream",
     "text": [
      "My least favorite car is a 2018 Chevrolet Silverado. I prefer yellow cars.\n"
     ]
    }
   ],
   "source": [
    "# use the dict below\n",
    "\n",
    "truck = {\n",
    "    'year': 2018,\n",
    "    'make': 'Chevrolet',\n",
    "    'model': 'Silverado'\n",
    "}\n",
    "print(\"My least favorite car is a {} {} {}. I prefer yellow cars.\".format(truck['year'], truck['make'], truck['model']))"
   ]
  },
  {
   "cell_type": "markdown",
   "metadata": {},
   "source": [
    "##### Adding New Pairs"
   ]
  },
  {
   "cell_type": "code",
   "execution_count": 7,
   "metadata": {},
   "outputs": [
    {
     "name": "stdout",
     "output_type": "stream",
     "text": [
      "Repulatina\n"
     ]
    },
    {
     "data": {
      "text/plain": [
       "'brimstone'"
      ]
     },
     "execution_count": 7,
     "metadata": {},
     "output_type": "execute_result"
    }
   ],
   "source": [
    "# dict[key] = value\n",
    "d2 = {\n",
    "    \"name\": \"jozemoss\",\n",
    "    \"age\": 134,\n",
    "    \"type\": \"forgetful dragon\",\n",
    "    \"time to regeneration\": 500,\n",
    "}\n",
    "d2[\"name\"] = \"Repulatina\"\n",
    "\n",
    "print(d2[\"name\"])\n",
    "d2[\"new_value\"] = {\n",
    "    \"eyes\": \"brimstone\",\n",
    "}\n",
    "d2[\"new_value\"][\"eyes\"]\n"
   ]
  },
  {
   "cell_type": "markdown",
   "metadata": {},
   "source": [
    "##### Modifying Values"
   ]
  },
  {
   "cell_type": "code",
   "execution_count": null,
   "metadata": {},
   "outputs": [],
   "source": [
    "# dict[key] = value\n",
    "\n"
   ]
  },
  {
   "cell_type": "markdown",
   "metadata": {},
   "source": [
    "##### Removing Key, Value Pairs"
   ]
  },
  {
   "cell_type": "code",
   "execution_count": 12,
   "metadata": {},
   "outputs": [
    {
     "name": "stdout",
     "output_type": "stream",
     "text": [
      "Repulatina\n",
      "{'name': 'Repulatina', 'age': 134, 'type': 'forgetful dragon', 'time to regeneration': 500, 'new_value': {'eyes': 'brimstone'}}\n"
     ]
    },
    {
     "data": {
      "text/plain": [
       "{'name': 'Repulatina',\n",
       " 'age': 134,\n",
       " 'type': 'forgetful dragon',\n",
       " 'time to regeneration': 500}"
      ]
     },
     "execution_count": 12,
     "metadata": {},
     "output_type": "execute_result"
    }
   ],
   "source": [
    "# del dict[key]\n",
    "d2 = {\n",
    "    \"name\": \"jozemoss\",\n",
    "    \"age\": 134,\n",
    "    \"type\": \"forgetful dragon\",\n",
    "    \"time to regeneration\": 500,\n",
    "}\n",
    "d2[\"name\"] = \"Repulatina\"\n",
    "\n",
    "print(d2[\"name\"])\n",
    "d2[\"new_value\"] = {\n",
    "    \"eyes\": \"brimstone\",\n",
    "}\n",
    "print(d2)\n",
    "del d2[\"new_value\"]\n",
    "d2\n",
    "\n",
    "\n"
   ]
  },
  {
   "cell_type": "markdown",
   "metadata": {},
   "source": [
    "##### Looping a Dictionary"
   ]
  },
  {
   "cell_type": "code",
   "execution_count": 22,
   "metadata": {},
   "outputs": [
    {
     "name": "stdout",
     "output_type": "stream",
     "text": [
      "name Repulatina\n",
      "age 134\n",
      "type forgetful dragon\n",
      "time to regeneration 500\n"
     ]
    }
   ],
   "source": [
    "# .items()\n",
    "# a, b, c = 1, 2, 3\n",
    "# print(a)\n",
    "# print(b)\n",
    "# print(c)\n",
    "d2 = {\n",
    "    \"name\": \"jozemoss\",\n",
    "    \"age\": 134,\n",
    "    \"type\": \"forgetful dragon\",\n",
    "    \"time to regeneration\": 500,\n",
    "}\n",
    "d2[\"name\"] = \"Repulatina\"\n",
    "\n",
    "for keys, values in d2.items():\n",
    "    print(keys, values)\n"
   ]
  },
  {
   "cell_type": "markdown",
   "metadata": {},
   "source": [
    "##### Looping Only Keys"
   ]
  },
  {
   "cell_type": "code",
   "execution_count": 24,
   "metadata": {},
   "outputs": [
    {
     "ename": "SyntaxError",
     "evalue": "invalid syntax (<ipython-input-24-d0505763cc41>, line 3)",
     "output_type": "error",
     "traceback": [
      "\u001b[1;36m  File \u001b[1;32m\"<ipython-input-24-d0505763cc41>\"\u001b[1;36m, line \u001b[1;32m3\u001b[0m\n\u001b[1;33m    for keys in d2.keys()\u001b[0m\n\u001b[1;37m                         ^\u001b[0m\n\u001b[1;31mSyntaxError\u001b[0m\u001b[1;31m:\u001b[0m invalid syntax\n"
     ]
    }
   ],
   "source": [
    "# .keys()\n",
    "\n",
    "for keys in d2.keys():\n",
    "    print(keys)\n",
    "for values in d2.values():\n",
    "    print(values)\n",
    "\n"
   ]
  },
  {
   "cell_type": "markdown",
   "metadata": {},
   "source": [
    "##### Looping Only Values"
   ]
  },
  {
   "cell_type": "code",
   "execution_count": null,
   "metadata": {},
   "outputs": [],
   "source": [
    "# .values()\n",
    "\n"
   ]
  },
  {
   "cell_type": "markdown",
   "metadata": {},
   "source": [
    "## In-Class Exercise #2 - Create a Function that Prints All Key Value Pairs within a print .format() <br>\n",
    "<p><b>Output should be:</b><br>\n",
    "Max has blue eyes<br>\n",
    "Lilly has brown eyes<br>\n",
    "Barney has blue eyes<br>\n",
    "etc.\n",
    "</p>"
   ]
  },
  {
   "cell_type": "code",
   "execution_count": 29,
   "metadata": {},
   "outputs": [
    {
     "name": "stdout",
     "output_type": "stream",
     "text": [
      "This is my friend Max and their skin color is blue.\n",
      "Max has blue skin.\n",
      "This is my friend Lilly and their skin color is brown.\n",
      "Lilly has brown skin.\n",
      "This is my friend Barney and their skin color is blue.\n",
      "Barney has blue skin.\n",
      "This is my friend Larney and their skin color is brown.\n",
      "Larney has brown skin.\n",
      "This is my friend Ted and their skin color is purple.\n",
      "Ted has purple skin.\n"
     ]
    }
   ],
   "source": [
    "# use the dict below\n",
    "\n",
    "people = {\n",
    "    'Max': 'blue',\n",
    "    'Lilly': 'brown',\n",
    "    'Barney': 'blue',\n",
    "    'Larney': 'brown',\n",
    "    'Ted': 'purple'\n",
    "}\n",
    "\n",
    "def people_char(dictionary):\n",
    "    for keys, values in people.items():\n",
    "        print(\"This is my friend \" + keys + \" and their skin color is \" + values + \".\")\n",
    "        #You could also format this like:\n",
    "        print(\"{} has {} skin.\".format(keys, values))\n",
    "              \n",
    "people_char(people)\n",
    "        \n"
   ]
  },
  {
   "cell_type": "markdown",
   "metadata": {},
   "source": [
    "##### sorted()"
   ]
  },
  {
   "cell_type": "code",
   "execution_count": 34,
   "metadata": {},
   "outputs": [
    {
     "name": "stdout",
     "output_type": "stream",
     "text": [
      "[('Middewred', {'eyes': 'ruby', 'birthstone': 'garnet'}), ('Raspt', {'eyes': 'smog', 'birthstone': 'topaz'}), ('Reptilina', {'eyes': 'brimstone', 'birthstone': 'obsidian'}), ('Sooterella', {'eyes': 'grey', 'birthstone': 'jade'})]\n",
      "Reptilina {'eyes': 'brimstone', 'birthstone': 'obsidian'}\n",
      "Sooterella {'eyes': 'grey', 'birthstone': 'jade'}\n",
      "Raspt {'eyes': 'smog', 'birthstone': 'topaz'}\n",
      "Middewred {'eyes': 'ruby', 'birthstone': 'garnet'}\n"
     ]
    }
   ],
   "source": [
    "# sorts variables in order\n",
    "# sorted(dict.values()) or dict.keys() or dict.items()\n",
    "people = {\n",
    "    \"Reptilina\": {\n",
    "        \"eyes\": \"brimstone\",\n",
    "        \"birthstone\": \"obsidian\",\n",
    "    },\n",
    "    \"Sooterella\": {\n",
    "        \"eyes\": \"grey\",\n",
    "        \"birthstone\": \"jade\",\n",
    "    },\n",
    "    \"Raspt\": {\n",
    "        \"eyes\": \"smog\",\n",
    "        \"birthstone\": \"topaz\"\n",
    "    },\n",
    "    \"Middewred\": {\n",
    "        \"eyes\": \"ruby\",\n",
    "        \"birthstone\": \"garnet\"\n",
    "    }\n",
    "}\n",
    "\n",
    "print(sorted(people.items()))\n",
    "\n",
    "for key in people.keys():\n",
    "    print(key, people[key])\n",
    "\n"
   ]
  },
  {
   "cell_type": "markdown",
   "metadata": {},
   "source": [
    "##### List with Dictionaries"
   ]
  },
  {
   "cell_type": "code",
   "execution_count": 36,
   "metadata": {},
   "outputs": [
    {
     "data": {
      "text/plain": [
       "'purple'"
      ]
     },
     "execution_count": 36,
     "metadata": {},
     "output_type": "execute_result"
    }
   ],
   "source": [
    "multiple_layers = [\"Dave\", \"Donald\", \"Paalpy\", {\"color\": \"purple\"}]\n",
    "\n",
    "multiple_layers[3][\"color\"]"
   ]
  },
  {
   "cell_type": "markdown",
   "metadata": {},
   "source": [
    "##### Dictionaries with Lists"
   ]
  },
  {
   "cell_type": "code",
   "execution_count": 58,
   "metadata": {},
   "outputs": [
    {
     "name": "stdout",
     "output_type": "stream",
     "text": [
      "Reptilina\n",
      "Mr. Bean\n",
      "6770970986233039153\n",
      "-7694590945479546706\n"
     ]
    }
   ],
   "source": [
    "# be careful when using numbers as keys in dictionaries, don't confuse them with indexes\n",
    "d1 = {\n",
    "    \"list1\": [4, 8, 15, 16, 23, 42],\n",
    "    \"list2\": [\"Middewred\", \"Raspt\", \"Reptilina\"],\n",
    "    3: [\"Mr. Bean\", \"Miss Tomatoes\"]\n",
    "}\n",
    "\n",
    "for value in d1.values():\n",
    "    print(d1[\"list2\"][2])\n",
    "    break\n",
    "    \n",
    "print(d1[3][0])\n",
    "print(hash(d1[3][1]))\n",
    "print(hash(d1[\"list2\"][2]))"
   ]
  },
  {
   "cell_type": "markdown",
   "metadata": {},
   "source": [
    "##### Dictionaries with Dictionaries"
   ]
  },
  {
   "cell_type": "code",
   "execution_count": null,
   "metadata": {},
   "outputs": [],
   "source": [
    "# to get values, must traverse through keys\n",
    "\n"
   ]
  },
  {
   "cell_type": "markdown",
   "metadata": {},
   "source": [
    "## Using Python's Hashing Function"
   ]
  },
  {
   "cell_type": "code",
   "execution_count": 59,
   "metadata": {},
   "outputs": [
    {
     "name": "stdout",
     "output_type": "stream",
     "text": [
      "-2347476153042103937\n",
      "2268573782178118172\n",
      "-2347476153042103937\n",
      "-2347476153042103937\n"
     ]
    }
   ],
   "source": [
    "# hash(var)\n",
    "\n",
    "a = 'Bo'\n",
    "b = 'Bob'\n",
    "c = 'Bo'\n",
    "d = a\n",
    "\n",
    "\n",
    "print(hash(a))\n",
    "print(hash(b))\n",
    "print(hash(c))\n",
    "print(hash(d))"
   ]
  },
  {
   "cell_type": "markdown",
   "metadata": {},
   "source": [
    "## Dictionaries vs. Lists (over time) Example of RUNTIME\n",
    "### When inputting values in a Dictionary vs List"
   ]
  },
  {
   "cell_type": "code",
   "execution_count": 61,
   "metadata": {},
   "outputs": [],
   "source": [
    "import time\n",
    "\n",
    "\n",
    "# generate fake dictionary\n",
    "d = {}\n",
    "\n",
    "for i in range(10000000):\n",
    "    d[i] = 'value'\n",
    "    \n",
    "\n",
    "# generate fake list\n",
    "big_list = [x for x in range(10000000)]"
   ]
  },
  {
   "cell_type": "code",
   "execution_count": 62,
   "metadata": {},
   "outputs": [
    {
     "name": "stdout",
     "output_type": "stream",
     "text": [
      "value\n",
      "Elapsed time for dictionary: 0.0\n",
      "9999999\n",
      "Elapsed time for list: 0.7390217781066895\n"
     ]
    }
   ],
   "source": [
    "# tracking time for dictionary\n",
    "start_time = time.time()\n",
    "\n",
    "print(d[9999999])\n",
    "\n",
    "end_time = time.time() - start_time\n",
    "\n",
    "print('Elapsed time for dictionary: {}'.format(end_time))\n",
    "\n",
    "\n",
    "# tracking time for list\n",
    "start_time = time.time()\n",
    "\n",
    "for i in range(len(big_list)):\n",
    "    if i == 9999999:\n",
    "        print(i)\n",
    "\n",
    "end_time = time.time() - start_time\n",
    "\n",
    "print('Elapsed time for list: {}'.format(end_time))"
   ]
  },
  {
   "cell_type": "markdown",
   "metadata": {},
   "source": [
    "## Exercise #3 - Write a Function that asks someone's name and address, and then stores that into a dictionary, and continues to do so until they choose to 'quit'. Once they quit, the program should print all names and addresses. <br>\n",
    "<p>\n",
    "<b>Proper steps:</b><br>\n",
    "step 1: write a function that takes in information and stores it in a dictionary<br>\n",
    "step 2: define an empty dictionary to work with<br>\n",
    "step 3: create our loop, which asks the user for information until they quit<br>\n",
    "step 4: ask for the information, and store it into variables<br>\n",
    "step 5: check if the user types quit<br>\n",
    "step 5a: print out all information<br>\n",
    "step 5b: break out of the loop<br>\n",
    "step 6: if they didn't quit, add the information to the dictionary<br>\n",
    "step 7: invoke the function by calling it\n",
    "</p>"
   ]
  },
  {
   "cell_type": "code",
   "execution_count": 75,
   "metadata": {},
   "outputs": [
    {
     "name": "stdout",
     "output_type": "stream",
     "text": [
      "What name?lkj\n",
      "What address?kh\n"
     ]
    }
   ],
   "source": [
    "def dictionary_function():\n",
    "    info = {}\n",
    "\n",
    "    running = True\n",
    "    while running:\n",
    "        try: \n",
    "            user_key = input(\"What name?\")\n",
    "            user_value = input(\"What address?\")\n",
    "            info[user_key] = info[user_value]\n",
    "            print(info)\n",
    "        except: \n",
    "            if user_key.lower() or user_value.lower() == \"quit\":\n",
    "                break\n",
    "    \n",
    "dictionary_function()"
   ]
  },
  {
   "cell_type": "code",
   "execution_count": 5,
   "metadata": {},
   "outputs": [
    {
     "name": "stdout",
     "output_type": "stream",
     "text": [
      "type 'quit' at any time to stop.\n",
      "Give me  your name. bi\n",
      "Give me your address. kh;\n"
     ]
    },
    {
     "ename": "KeyError",
     "evalue": "'kh;'",
     "output_type": "error",
     "traceback": [
      "\u001b[1;31m---------------------------------------------------------------------------\u001b[0m",
      "\u001b[1;31mKeyError\u001b[0m                                  Traceback (most recent call last)",
      "\u001b[1;32m<ipython-input-5-48486a8b4c30>\u001b[0m in \u001b[0;36m<module>\u001b[1;34m\u001b[0m\n\u001b[0;32m      6\u001b[0m     \u001b[0mname\u001b[0m \u001b[1;33m=\u001b[0m \u001b[0minput\u001b[0m\u001b[1;33m(\u001b[0m\u001b[1;34m\"Give me  your name. \"\u001b[0m\u001b[1;33m)\u001b[0m\u001b[1;33m\u001b[0m\u001b[1;33m\u001b[0m\u001b[0m\n\u001b[0;32m      7\u001b[0m     \u001b[0maddress\u001b[0m \u001b[1;33m=\u001b[0m \u001b[0minput\u001b[0m\u001b[1;33m(\u001b[0m\u001b[1;34m\"Give me your address. \"\u001b[0m\u001b[1;33m)\u001b[0m\u001b[1;33m\u001b[0m\u001b[1;33m\u001b[0m\u001b[0m\n\u001b[1;32m----> 8\u001b[1;33m     \u001b[0minfo\u001b[0m\u001b[1;33m[\u001b[0m\u001b[0mname\u001b[0m\u001b[1;33m]\u001b[0m \u001b[1;33m=\u001b[0m \u001b[0minfo\u001b[0m\u001b[1;33m[\u001b[0m\u001b[0maddress\u001b[0m\u001b[1;33m]\u001b[0m\u001b[1;33m\u001b[0m\u001b[1;33m\u001b[0m\u001b[0m\n\u001b[0m\u001b[0;32m      9\u001b[0m     \u001b[1;32mif\u001b[0m \u001b[0mname\u001b[0m\u001b[1;33m.\u001b[0m\u001b[0mlower\u001b[0m\u001b[1;33m(\u001b[0m\u001b[1;33m)\u001b[0m \u001b[1;33m==\u001b[0m \u001b[1;34m\"quit\"\u001b[0m \u001b[1;32mor\u001b[0m \u001b[0maddress\u001b[0m\u001b[1;33m.\u001b[0m\u001b[0mlower\u001b[0m\u001b[1;33m(\u001b[0m\u001b[1;33m)\u001b[0m \u001b[1;33m==\u001b[0m \u001b[1;34m\"quit\"\u001b[0m\u001b[1;33m:\u001b[0m\u001b[1;33m\u001b[0m\u001b[1;33m\u001b[0m\u001b[0m\n\u001b[0;32m     10\u001b[0m         \u001b[0mrunning\u001b[0m \u001b[1;33m=\u001b[0m \u001b[1;32mFalse\u001b[0m\u001b[1;33m\u001b[0m\u001b[1;33m\u001b[0m\u001b[0m\n",
      "\u001b[1;31mKeyError\u001b[0m: 'kh;'"
     ]
    }
   ],
   "source": [
    "def dictionary_function():\n",
    "    running = True\n",
    "while True:\n",
    "    info = {}\n",
    "    print(\"type 'quit' at any time to stop.\")\n",
    "    name = input(\"Give me  your name. \")\n",
    "    address = input(\"Give me your address. \")\n",
    "    info[name] = info[address]\n",
    "    if name.lower() == \"quit\" or address.lower() == \"quit\":\n",
    "        running = False\n",
    "        print(info)\n",
    "        break"
   ]
  },
  {
   "cell_type": "code",
   "execution_count": 2,
   "metadata": {},
   "outputs": [
    {
     "name": "stdout",
     "output_type": "stream",
     "text": [
      "give me namesdf\n",
      "give me addysdf\n",
      "give me nameasdf\n",
      "give me addyadf\n",
      "give me nameasdf\n",
      "give me addyasdf\n",
      "give me nameasdf\n",
      "give me addysadf\n",
      "give me nameasdf\n",
      "give me addyquit\n",
      "I know where sdf lives: sdf!\n",
      "I know where asdf lives: sadf!\n"
     ]
    }
   ],
   "source": [
    "def dictionary_function():\n",
    "    #step2\n",
    "    dict = {}\n",
    "    #step3\n",
    "    while True:\n",
    "        #step4\n",
    "        name = input(\"give me name\")\n",
    "        address = input(\"give me addy\")\n",
    "        #step5\n",
    "        if name.lower() == \"quit\" or address.lower() == \"quit\":\n",
    "            #step5a\n",
    "            for keys, values in dict.items():\n",
    "                print(\"I know where {} lives: {}!\".format(keys, values))\n",
    "            break #step5\n",
    "        dict[name] = address\n",
    "dictionary_function()\n",
    "            "
   ]
  },
  {
   "cell_type": "markdown",
   "metadata": {},
   "source": [
    "## Set <br>\n",
    "<p>A Set is an unordered collection data type that is iterable (loop), mutable, and has no duplicate elements.<br>Major advantage is that it is highly optimized in checking if something is in the set, as opposed to checking if something is in a list.</p>"
   ]
  },
  {
   "cell_type": "markdown",
   "metadata": {},
   "source": [
    "##### Declaring"
   ]
  },
  {
   "cell_type": "code",
   "execution_count": 7,
   "metadata": {},
   "outputs": [
    {
     "name": "stdout",
     "output_type": "stream",
     "text": [
      "{3, 4, 5, 6, 10}\n",
      "{3, 4, 5, 6, 10}\n"
     ]
    }
   ],
   "source": [
    "# set() or {}\n",
    "# no order {3, 2, 1} outputs as {1, 2, 3}\n",
    "nums = {4, 5, 6, 3, 10}\n",
    "print(nums)\n",
    "print(nums)\n"
   ]
  },
  {
   "cell_type": "markdown",
   "metadata": {},
   "source": [
    "##### .add()"
   ]
  },
  {
   "cell_type": "code",
   "execution_count": 8,
   "metadata": {},
   "outputs": [
    {
     "name": "stdout",
     "output_type": "stream",
     "text": [
      "{3, 4, 5, 6, 10, 44}\n"
     ]
    }
   ],
   "source": [
    "# set.add()\n",
    "nums = {4, 5, 6, 3, 10}\n",
    "nums.add(44)\n",
    "print(nums)\n"
   ]
  },
  {
   "cell_type": "markdown",
   "metadata": {},
   "source": [
    "##### .remove()"
   ]
  },
  {
   "cell_type": "code",
   "execution_count": 9,
   "metadata": {},
   "outputs": [
    {
     "name": "stdout",
     "output_type": "stream",
     "text": [
      "{3, 4, 5, 6}\n"
     ]
    }
   ],
   "source": [
    "# removes by value\n",
    "# set.remove()\n",
    "nums = {4, 5, 6, 3, 10}\n",
    "nums.remove(10)\n",
    "print(nums)\n",
    "\n"
   ]
  },
  {
   "cell_type": "markdown",
   "metadata": {},
   "source": [
    "##### .union() "
   ]
  },
  {
   "cell_type": "code",
   "execution_count": 11,
   "metadata": {},
   "outputs": [
    {
     "name": "stdout",
     "output_type": "stream",
     "text": [
      "{2, 4, 5, 6, 7, 2345, 76, 45, 565, 245, 345}\n",
      "{2, 4, 5, 6, 7, 2345, 76, 45, 565, 245, 345}\n"
     ]
    }
   ],
   "source": [
    "# Returns a union of two sets, can also use '|' or set.union(set)\n",
    "# joins all numbers, gets rid of duplicates\n",
    "s1 = {2345,5,2,45,7,6,2,4,565}\n",
    "s2 = {245,2345,76,2,45,7,2,345}\n",
    "\n",
    "s3 = s1.union(s2)\n",
    "print(s3)\n",
    "s4 = s1 | s2\n",
    "print(s4)\n",
    "\n"
   ]
  },
  {
   "cell_type": "markdown",
   "metadata": {},
   "source": [
    "##### .intersection()"
   ]
  },
  {
   "cell_type": "code",
   "execution_count": 12,
   "metadata": {},
   "outputs": [
    {
     "name": "stdout",
     "output_type": "stream",
     "text": [
      "{2345, 2, 45, 7}\n",
      "{2345, 2, 45, 7}\n"
     ]
    }
   ],
   "source": [
    "# Returns an intersection of two sets, can also use '&'\n",
    "# only takes similar elements from both sets\n",
    "s1 = {2345,5,2,45,7,6,2,4,565}\n",
    "s2 = {245,2345,76,2,45,7,2,345}\n",
    "\n",
    "s5 = s1 & s2\n",
    "s6 = s1.intersection(s2)\n",
    "print(s5)\n",
    "print(s6)\n",
    "\n"
   ]
  },
  {
   "cell_type": "markdown",
   "metadata": {},
   "source": [
    "##### .difference()"
   ]
  },
  {
   "cell_type": "code",
   "execution_count": 14,
   "metadata": {},
   "outputs": [
    {
     "name": "stdout",
     "output_type": "stream",
     "text": [
      "{565, 4, 5, 6}\n",
      "{565, 4, 5, 6}\n"
     ]
    }
   ],
   "source": [
    "# Returns a set containing all the elements of invoking set that are not in the second set, can also use '-'\n",
    "# only takes values from the first set that are not in the second set\n",
    "# order matters\n",
    "s1 = {2345,5,2,45,7,6,2,4,565}\n",
    "s2 = {245,2345,76,2,45,7,2,345}\n",
    "\n",
    "s7 = s1 - s2\n",
    "print(s7)\n",
    "s8 = s1.difference(s2)\n",
    "print(s8)\n",
    "\n"
   ]
  },
  {
   "cell_type": "markdown",
   "metadata": {},
   "source": [
    "##### .clear()"
   ]
  },
  {
   "cell_type": "code",
   "execution_count": null,
   "metadata": {},
   "outputs": [],
   "source": [
    "# Empties the whole set\n",
    "# set.clear()\n",
    "s7.clear()\n"
   ]
  },
  {
   "cell_type": "markdown",
   "metadata": {},
   "source": [
    "##### Frozenset <br>\n",
    "<p>Frozen sets are immutable objects that only support methods and operators that produce a result without affecting the frozen set or sets to which they are applied.</p><br><b>Unique & Immutable</b>"
   ]
  },
  {
   "cell_type": "code",
   "execution_count": 15,
   "metadata": {},
   "outputs": [
    {
     "ename": "AttributeError",
     "evalue": "'frozenset' object has no attribute 'add'",
     "output_type": "error",
     "traceback": [
      "\u001b[1;31m---------------------------------------------------------------------------\u001b[0m",
      "\u001b[1;31mAttributeError\u001b[0m                            Traceback (most recent call last)",
      "\u001b[1;32m<ipython-input-15-d70c23d10c1b>\u001b[0m in \u001b[0;36m<module>\u001b[1;34m\u001b[0m\n\u001b[0;32m      2\u001b[0m \u001b[0mmyset\u001b[0m \u001b[1;33m=\u001b[0m \u001b[0mfrozenset\u001b[0m\u001b[1;33m(\u001b[0m\u001b[1;33m[\u001b[0m\u001b[1;36m23\u001b[0m\u001b[1;33m,\u001b[0m\u001b[1;36m54\u001b[0m\u001b[1;33m,\u001b[0m\u001b[1;36m2345\u001b[0m\u001b[1;33m,\u001b[0m\u001b[1;36m6\u001b[0m\u001b[1;33m,\u001b[0m\u001b[1;36m346\u001b[0m\u001b[1;33m,\u001b[0m\u001b[1;36m234\u001b[0m\u001b[1;33m,\u001b[0m\u001b[1;36m2\u001b[0m\u001b[1;33m,\u001b[0m\u001b[1;36m2\u001b[0m\u001b[1;33m,\u001b[0m\u001b[1;36m24\u001b[0m\u001b[1;33m,\u001b[0m\u001b[1;36m6\u001b[0m\u001b[1;33m,\u001b[0m\u001b[1;36m4\u001b[0m\u001b[1;33m]\u001b[0m\u001b[1;33m)\u001b[0m\u001b[1;33m\u001b[0m\u001b[1;33m\u001b[0m\u001b[0m\n\u001b[0;32m      3\u001b[0m \u001b[0mmyset\u001b[0m\u001b[1;33m.\u001b[0m\u001b[0mintersection\u001b[0m\u001b[1;33m(\u001b[0m\u001b[0ms2\u001b[0m\u001b[1;33m)\u001b[0m\u001b[1;33m\u001b[0m\u001b[1;33m\u001b[0m\u001b[0m\n\u001b[1;32m----> 4\u001b[1;33m \u001b[0mmyset\u001b[0m\u001b[1;33m.\u001b[0m\u001b[0madd\u001b[0m\u001b[1;33m(\u001b[0m\u001b[1;36m32\u001b[0m\u001b[1;33m)\u001b[0m\u001b[1;33m\u001b[0m\u001b[1;33m\u001b[0m\u001b[0m\n\u001b[0m\u001b[0;32m      5\u001b[0m \u001b[1;33m\u001b[0m\u001b[0m\n",
      "\u001b[1;31mAttributeError\u001b[0m: 'frozenset' object has no attribute 'add'"
     ]
    }
   ],
   "source": [
    "# frozenset([])\n",
    "myset = frozenset([23,54,2345,6,346,234,2,2,24,6,4])\n",
    "myset.intersection(s2)\n",
    "myset.add(32)\n",
    "\n"
   ]
  },
  {
   "cell_type": "markdown",
   "metadata": {},
   "source": [
    "## Modules"
   ]
  },
  {
   "cell_type": "markdown",
   "metadata": {},
   "source": [
    "##### Importing Entire Modules"
   ]
  },
  {
   "cell_type": "code",
   "execution_count": 11,
   "metadata": {},
   "outputs": [
    {
     "name": "stdout",
     "output_type": "stream",
     "text": [
      "3.141592653589793\n"
     ]
    }
   ],
   "source": [
    "# import or from 'xxx' import *\n",
    "# import math\n",
    "import math\n",
    "print(math.pi)\n",
    "\n"
   ]
  },
  {
   "cell_type": "markdown",
   "metadata": {},
   "source": [
    "##### Importing Methods Only"
   ]
  },
  {
   "cell_type": "code",
   "execution_count": 21,
   "metadata": {
    "scrolled": true
   },
   "outputs": [
    {
     "name": "stdout",
     "output_type": "stream",
     "text": [
      "2\n",
      "25\n"
     ]
    }
   ],
   "source": [
    "# from 'xxx' import 'xxx'\n",
    "# from math import floor\n",
    "from math import floor\n",
    "print(floor(2.8))\n",
    "from math import floor as newnameahah\n",
    "print(newnameahah(25))\n"
   ]
  },
  {
   "cell_type": "markdown",
   "metadata": {},
   "source": [
    "##### Using the 'as' Keyword"
   ]
  },
  {
   "cell_type": "code",
   "execution_count": 22,
   "metadata": {},
   "outputs": [
    {
     "name": "stdout",
     "output_type": "stream",
     "text": [
      "2\n"
     ]
    }
   ],
   "source": [
    "# from 'xxx' import 'xxx' as 'xxx' or import 'xxx' as 'xxx'\n",
    "# from math import floor as fimport\n",
    "import math\n",
    "import random\n",
    "print(random.randint(0,10))\n",
    "\n"
   ]
  },
  {
   "cell_type": "markdown",
   "metadata": {},
   "source": [
    "##### Creating a Module"
   ]
  },
  {
   "cell_type": "code",
   "execution_count": 33,
   "metadata": {},
   "outputs": [
    {
     "name": "stdout",
     "output_type": "stream",
     "text": [
      "helloleyla\n",
      "leyla raoooy\n"
     ]
    }
   ],
   "source": [
    "# %run is only used i\n",
    "#in jupyter notebook, within VS Code you would use same import syntax as above\n",
    "# %run module.py\n",
    "from module import module\n",
    "\n",
    "module.printhello(\"leyla\")\n",
    "print(full_name)\n",
    "\n",
    "\n",
    "\n",
    "\n",
    "# how it would normally look in VS Code\n",
    "# from calculations import printName\n",
    "\n",
    "# printName('Connor')"
   ]
  },
  {
   "cell_type": "markdown",
   "metadata": {},
   "source": [
    "# Exercises"
   ]
  },
  {
   "cell_type": "markdown",
   "metadata": {},
   "source": [
    "### 1) Build a Shopping Cart <br>\n",
    "<p><b>You can use either lists or dictionaries. The program should have the following capabilities:</b><br><br>\n",
    "1) Takes in input <br>\n",
    "2) Stores user input into a dictionary <br>\n",
    "3) User can add or delete items <br>\n",
    "4) User can see current shopping list <br>\n",
    "5) Loops until user 'quits' <br>\n",
    "6) Upon quiting the program, print out all items in the user's list <br>\n",
    "</p>"
   ]
  },
  {
   "cell_type": "code",
   "execution_count": 5,
   "metadata": {},
   "outputs": [
    {
     "name": "stdout",
     "output_type": "stream",
     "text": [
      "Welcome to your shopping cart. Enter what you want to add, show to see it, and quit to end.\n",
      "What do you want to buy? cream\n",
      "What do you want to buy? meat\n",
      "What do you want to buy? cats\n",
      "What do you want to buy? delete\n",
      "What do you want to delete?meats\n",
      "You didn't add that anyway.\n",
      "What do you want to buy? delete\n",
      "What do you want to delete?meat\n",
      "Okay, it's gone.\n",
      "What do you want to buy? show\n",
      "You're buying Cream.\n",
      "You're buying Cats.\n",
      "What do you want to buy? shoes\n",
      "What do you want to buy? shoelaces\n",
      "What do you want to buy? death\n",
      "What do you want to buy? quit\n",
      "You've purchased Cream . \n",
      "You've purchased Cats . \n",
      "You've purchased Shoes . \n",
      "You've purchased Shoelaces . \n",
      "You've purchased Death . \n"
     ]
    }
   ],
   "source": [
    "print(\"Welcome to your shopping cart. Enter what you want to add, show to see it, and quit to end.\")\n",
    "shopping = []\n",
    "while True:\n",
    "    user = input(\"What do you want to buy? \")\n",
    "    shopping.append(user)\n",
    "    if user.lower() == \"show\": \n",
    "        shopping.pop(-1)\n",
    "        for item in shopping:\n",
    "            print(\"You're buying \" + item.title() + \".\")\n",
    "    elif user.lower() == \"delete\":\n",
    "        shopping.pop(-1)\n",
    "        delete = input(\"What do you want to delete? \")\n",
    "        if delete in shopping:\n",
    "            index = shopping.index(delete)\n",
    "            shopping.pop(int(index))\n",
    "            print(\"Okay, it's gone.\")\n",
    "        elif delete not in shopping:\n",
    "            print(\"You didn't add that anyway. \")\n",
    "        \n",
    "    elif user == \"quit\": #or amount == \"quit\":\n",
    "        shopping.pop(-1)\n",
    "        for item in shopping:\n",
    "            print(\"You've purchased {} .\".format(item.title()))\n",
    "        break"
   ]
  },
  {
   "cell_type": "code",
   "execution_count": null,
   "metadata": {},
   "outputs": [
    {
     "name": "stdout",
     "output_type": "stream",
     "text": [
      "Here is your shopping cart. Enter show to see it and quit to end.\n",
      "What do you want to buy? cat food\n",
      "How much do you want? 23\n",
      "What do you want to buy? show\n",
      "How much do you want? show\n",
      "What do you want to buy? quit\n",
      "How much do you want? quit\n"
     ]
    }
   ],
   "source": [
    "from IPython.display import clear_output\n",
    "#help(clear_output)\n",
    "#Help on function clear_output in module IPython.core.display:\n",
    "#clear_output(wait=False)\n",
    "    #Clear the output of the current cell receiving output.\n",
    "    #Parameters\n",
    "    #----------\n",
    "    #wait : bool [default: false]\n",
    "        #Wait to clear the output until new output is available to replace it.\n"
   ]
  },
  {
   "cell_type": "markdown",
   "metadata": {},
   "source": [
    "### 2) Create a Module in VS Code and Import It into jupyter notebook <br>\n",
    "<p><b>Module should have the following capabilities:</b><br><br>\n",
    "1) Has a function to calculate the square footage of a house <br>\n",
    "    <b>Reminder of Formula: Length X Width == Area<br>\n",
    "        <hr>\n",
    "2) Has a function to calculate the circumference of a circle <br><br>\n",
    "<b>Program in Jupyter Notebook should take in user input and use imported functions to calculate a circle's circumference or a houses square footage</b>\n",
    "</p>"
   ]
  },
  {
   "cell_type": "code",
   "execution_count": 1,
   "metadata": {},
   "outputs": [
    {
     "name": "stdout",
     "output_type": "stream",
     "text": [
      "The area is 3600\n",
      "Sir Cumference is 31.41592653589793, as round as the Round Table.\n"
     ]
    }
   ],
   "source": [
    "from homework_module import module\n",
    "module.square_footage(60, 60)\n",
    "\n",
    "module.circum_circle(5)"
   ]
  }
 ],
 "metadata": {
  "kernelspec": {
   "display_name": "Python 3",
   "language": "python",
   "name": "python3"
  },
  "language_info": {
   "codemirror_mode": {
    "name": "ipython",
    "version": 3
   },
   "file_extension": ".py",
   "mimetype": "text/x-python",
   "name": "python",
   "nbconvert_exporter": "python",
   "pygments_lexer": "ipython3",
   "version": "3.7.3"
  }
 },
 "nbformat": 4,
 "nbformat_minor": 2
}
